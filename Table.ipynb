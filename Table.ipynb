{
 "cells": [
  {
   "cell_type": "code",
   "execution_count": 2,
   "id": "initial_id",
   "metadata": {
    "collapsed": true,
    "ExecuteTime": {
     "end_time": "2024-02-08T01:59:47.316696Z",
     "start_time": "2024-02-08T01:59:46.308485Z"
    }
   },
   "outputs": [],
   "source": [
    "import numpy as np\n",
    "import scipy.stats as st\n",
    "from matplotlib import pyplot as plt\n",
    "from InformativeRandomSample import informative_sample\n",
    "from Estimators import ACLEstimate, PREstimate, RREstimate\n",
    "import pandas as pd"
   ]
  },
  {
   "cell_type": "code",
   "outputs": [],
   "source": [
    "censorship = [0, 0.1, 0.2, 0.3, 0.4, 0.5, 0.6]\n",
    "kernels = ['cosine', 'epanechnikov', 'gaussian', 'laplace', 'logistic', 'quartic', 'triangular', 'tricube', 'triweight', 'uniform']\n",
    "bandwidths = [0.01, 0.02, 0.03, 0.04, 0.05, 0.06, 0.07, 0.08, 0.09, 0.1, 0.11, 0.12, 0.13, 0.14, 0.15, 0.16, 0.17, 0.18, 0.19, 0.2, 0.23, 0.25, 0.3, 0.4, 0.5, 0.6, 0.7, 0.8, 0.9, 1]"
   ],
   "metadata": {
    "collapsed": false,
    "ExecuteTime": {
     "end_time": "2024-02-08T01:59:49.423243Z",
     "start_time": "2024-02-08T01:59:49.407206Z"
    }
   },
   "id": "a094483e47e9b39d",
   "execution_count": 3
  },
  {
   "cell_type": "code",
   "outputs": [
    {
     "data": {
      "text/plain": "<sqlite3.Cursor at 0x124766940>"
     },
     "execution_count": 4,
     "metadata": {},
     "output_type": "execute_result"
    }
   ],
   "source": [
    "import sqlite3\n",
    "conn = sqlite3.connect('example500.db')\n",
    "cursor = conn.cursor()\n",
    "cursor.execute('''\n",
    "CREATE TABLE IF NOT EXISTS example_table (\n",
    "    value REAL,\n",
    "    kernels TEXT,\n",
    "    censorship REAL,\n",
    "    bandwidths REAL\n",
    ")\n",
    "''')"
   ],
   "metadata": {
    "collapsed": false,
    "ExecuteTime": {
     "end_time": "2024-02-08T01:59:56.524634Z",
     "start_time": "2024-02-08T01:59:56.496074Z"
    }
   },
   "id": "4b469342755ce39c",
   "execution_count": 4
  },
  {
   "cell_type": "code",
   "outputs": [],
   "source": [
    "n = 500"
   ],
   "metadata": {
    "collapsed": false,
    "ExecuteTime": {
     "end_time": "2024-02-08T01:59:59.380083Z",
     "start_time": "2024-02-08T01:59:59.372993Z"
    }
   },
   "id": "b62bee8f646e489e",
   "execution_count": 5
  },
  {
   "cell_type": "code",
   "outputs": [
    {
     "name": "stderr",
     "output_type": "stream",
     "text": [
      "/Users/dilshodmansurov/DataspellProjects/Bozorov/Kernels.py:364: RuntimeWarning: overflow encountered in cosh\n",
      "  pdf_values = (0.5 / scale) / (1 + np.cosh(z))\n"
     ]
    }
   ],
   "source": [
    "for kl in range(1200):\n",
    "    for i in censorship:\n",
    "        T, E = informative_sample(st.expon, n, n*i)\n",
    "        t = ACLEstimate(T, E)\n",
    "        x = np.delete(T, np.argmax(T))\n",
    "        for j in bandwidths:\n",
    "            for k in kernels:\n",
    "                S = np.mean((t.pdf(x, bandwidth=j, kernel=k) - st.expon.pdf(x))**2)\n",
    "                cursor.execute(\"\"\"INSERT INTO example_table(value, kernels, censorship, bandwidths) VALUES (?, ?, ?, ?)\"\"\", (S, k, i, j))"
   ],
   "metadata": {
    "collapsed": false,
    "ExecuteTime": {
     "end_time": "2024-02-08T04:02:21.735425Z",
     "start_time": "2024-02-08T02:00:09.559043Z"
    }
   },
   "id": "f30bd8957da631",
   "execution_count": 6
  },
  {
   "cell_type": "code",
   "outputs": [],
   "source": [
    "conn.commit()\n",
    "conn.close()"
   ],
   "metadata": {
    "collapsed": false,
    "ExecuteTime": {
     "end_time": "2024-02-08T04:07:15.512734Z",
     "start_time": "2024-02-08T04:07:15.499935Z"
    }
   },
   "id": "9a62481ba835c47f",
   "execution_count": 7
  },
  {
   "cell_type": "markdown",
   "source": [],
   "metadata": {
    "collapsed": false
   },
   "id": "68648a3076bc3a9d"
  },
  {
   "cell_type": "code",
   "outputs": [],
   "source": [],
   "metadata": {
    "collapsed": false,
    "ExecuteTime": {
     "end_time": "2024-02-08T04:28:43.792414Z",
     "start_time": "2024-02-08T04:28:43.778243Z"
    }
   },
   "id": "9ebc1cead2464272",
   "execution_count": 7
  },
  {
   "cell_type": "code",
   "outputs": [],
   "source": [
    "def sqlite_to_excel(df, kernel, censorships, bandwidths):\n",
    "    A = np.array([])\n",
    "    for a in bandwidths:\n",
    "        for b in censorships:\n",
    "            bb = df[(df.kernels == kernel) & (df.censorship == b) & (df.bandwidths == a)]['value'].mean()\n",
    "            A = np.append(A, bb)\n",
    "    return A.reshape(len(bandwidths), len(censorships))"
   ],
   "metadata": {
    "collapsed": false,
    "ExecuteTime": {
     "end_time": "2024-02-08T04:28:47.653872Z",
     "start_time": "2024-02-08T04:28:47.640094Z"
    }
   },
   "id": "c6956a4a88e928ef",
   "execution_count": 8
  },
  {
   "cell_type": "code",
   "outputs": [],
   "source": [
    "import sqlite3\n",
    "import pandas as pd\n",
    "conn = sqlite3.connect('example500.db')\n",
    "cursor = conn.cursor()\n",
    "query = \"SELECT * FROM example_table\"\n",
    "df = pd.read_sql(query, conn)\n",
    "conn.close()\n",
    "df1 = sqlite_to_excel(df, 'tricube', [0, 0.1, 0.2, 0.3, 0.4, 0.5, 0.6], [0.01, 0.02, 0.03, 0.04, 0.05, 0.06, 0.07, 0.08, 0.09, 0.1, 0.11, 0.12, 0.13, 0.14, 0.15, 0.16, 0.17, 0.18, 0.19, 0.2, 0.23, 0.25, 0.3, 0.4, 0.5, 0.6, 0.7, 0.8, 0.9, 1])\n",
    "df2 = pd.DataFrame(df1, columns=['0', '10', '20', '30', '40', '50', '60'], index=bandwidths)"
   ],
   "metadata": {
    "collapsed": false,
    "ExecuteTime": {
     "end_time": "2024-02-08T04:49:18.667743Z",
     "start_time": "2024-02-08T04:48:59.696355Z"
    }
   },
   "id": "61cb92908e689f7e",
   "execution_count": 67
  },
  {
   "cell_type": "code",
   "outputs": [],
   "source": [
    "df2.to_excel('tricube500.xlsx')"
   ],
   "metadata": {
    "collapsed": false,
    "ExecuteTime": {
     "end_time": "2024-02-08T04:49:25.383895Z",
     "start_time": "2024-02-08T04:49:25.358476Z"
    }
   },
   "id": "7e1db203c8e48681",
   "execution_count": 68
  },
  {
   "cell_type": "code",
   "outputs": [],
   "source": [
    "conn.close()"
   ],
   "metadata": {
    "collapsed": false,
    "ExecuteTime": {
     "end_time": "2024-02-08T04:49:25.835627Z",
     "start_time": "2024-02-08T04:49:25.832214Z"
    }
   },
   "id": "57aeab2dbf7d4cb4",
   "execution_count": 69
  },
  {
   "cell_type": "code",
   "outputs": [],
   "source": [],
   "metadata": {
    "collapsed": false
   },
   "id": "c16789fe83e8e0a"
  }
 ],
 "metadata": {
  "kernelspec": {
   "display_name": "Python 3",
   "language": "python",
   "name": "python3"
  },
  "language_info": {
   "codemirror_mode": {
    "name": "ipython",
    "version": 2
   },
   "file_extension": ".py",
   "mimetype": "text/x-python",
   "name": "python",
   "nbconvert_exporter": "python",
   "pygments_lexer": "ipython2",
   "version": "2.7.6"
  }
 },
 "nbformat": 4,
 "nbformat_minor": 5
}
